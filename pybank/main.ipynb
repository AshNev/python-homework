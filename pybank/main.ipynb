{
 "cells": [
  {
   "cell_type": "code",
   "execution_count": 2,
   "id": "00da76e4-562e-4899-a770-774b020605e9",
   "metadata": {},
   "outputs": [],
   "source": [
    "# PyBank Homework"
   ]
  },
  {
   "cell_type": "code",
   "execution_count": 13,
   "id": "a99a8f71-ee93-4a63-b680-4197d6665125",
   "metadata": {
    "tags": []
   },
   "outputs": [],
   "source": [
    "import pandas as pd\n",
    "import numpy as np"
   ]
  },
  {
   "cell_type": "code",
   "execution_count": 140,
   "id": "c9e28a55-04d7-4f4c-b0a9-4741e227fe57",
   "metadata": {},
   "outputs": [],
   "source": [
    "df = pd.read_csv(r\"C:\\Users\\Ashley\\python-homework\\PyBank\\budget_data.csv\")"
   ]
  },
  {
   "cell_type": "code",
   "execution_count": 141,
   "id": "77372dce-1950-402b-9089-7a1a5e0f8a96",
   "metadata": {},
   "outputs": [],
   "source": [
    "count1 = df['Profit/Losses'].count()\n",
    "mean1 = df['Profit/Losses'].mean()\n",
    "sum1 = df['Profit/Losses'].sum()\n",
    "max1 = df['Profit/Losses'].max()\n",
    "min1 = df['Profit/Losses'].min()"
   ]
  },
  {
   "cell_type": "code",
   "execution_count": 146,
   "id": "292f3b2a-8157-4b4a-8e3c-c2d9053b5dc6",
   "metadata": {},
   "outputs": [
    {
     "name": "stdout",
     "output_type": "stream",
     "text": [
      "Feb-2012\n",
      "Sep-2013\n"
     ]
    }
   ],
   "source": [
    "max1_date = df.sort_values('Profit/Losses').tail(1).Date.to_string(index=False)\n",
    "print(max1_date)\n",
    "min1_date = df.sort_values('Profit/Losses').head(1).Date.to_string(index=False)\n",
    "print(min1_date)"
   ]
  },
  {
   "cell_type": "code",
   "execution_count": 149,
   "id": "7b3854da-8d7e-47a5-adf3-80556d9f4068",
   "metadata": {},
   "outputs": [
    {
     "name": "stdout",
     "output_type": "stream",
     "text": [
      "Financial Analysis\n",
      "----------------------\n",
      "Total Months: 86\n",
      "Total: $38382578\n",
      "Average Change: $446309.0465116279\n",
      "Greatest Increase in Profits: Feb-2012 $1170593\n",
      "Greatest Decrease in Profits: Sep-2013 $-1196225\n"
     ]
    }
   ],
   "source": [
    "print('Financial Analysis')\n",
    "print('----------------------')\n",
    "print('Total Months: ' + str(count1))\n",
    "print('Total: $' + str(sum1))\n",
    "print('Average Change: $' + str(mean1))\n",
    "print('Greatest Increase in Profits: ' + str(max1_date) + \" $\" + str(max1))\n",
    "print('Greatest Decrease in Profits: ' +str(min1_date) +\" $\" + str(min1))"
   ]
  },
  {
   "cell_type": "code",
   "execution_count": null,
   "id": "f08ad853-2395-475d-9bb8-670671a5c0c2",
   "metadata": {},
   "outputs": [],
   "source": []
  },
  {
   "cell_type": "code",
   "execution_count": null,
   "id": "dcc13a64-9b35-4001-bd78-a9552ab14934",
   "metadata": {},
   "outputs": [],
   "source": []
  },
  {
   "cell_type": "code",
   "execution_count": null,
   "id": "3bf78365-65e0-409d-8f92-031f109c8b6c",
   "metadata": {},
   "outputs": [],
   "source": []
  },
  {
   "cell_type": "code",
   "execution_count": null,
   "id": "d1e92f4d-ded6-45c8-95e2-b47d2a49760b",
   "metadata": {},
   "outputs": [],
   "source": []
  },
  {
   "cell_type": "code",
   "execution_count": null,
   "id": "19a861ad-557a-4646-b6a4-197b06ddee9d",
   "metadata": {},
   "outputs": [],
   "source": []
  }
 ],
 "metadata": {
  "kernelspec": {
   "display_name": "Python 3",
   "language": "python",
   "name": "python3"
  },
  "language_info": {
   "codemirror_mode": {
    "name": "ipython",
    "version": 3
   },
   "file_extension": ".py",
   "mimetype": "text/x-python",
   "name": "python",
   "nbconvert_exporter": "python",
   "pygments_lexer": "ipython3",
   "version": "3.8.8"
  }
 },
 "nbformat": 4,
 "nbformat_minor": 5
}
