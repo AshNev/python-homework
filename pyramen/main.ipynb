{
 "cells": [
  {
   "cell_type": "code",
   "execution_count": 2,
   "id": "00da76e4-562e-4899-a770-774b020605e9",
   "metadata": {},
   "outputs": [],
   "source": [
    "# PyBank Homework"
   ]
  },
  {
   "cell_type": "code",
   "execution_count": 13,
   "id": "a99a8f71-ee93-4a63-b680-4197d6665125",
   "metadata": {
    "tags": []
   },
   "outputs": [],
   "source": [
    "import pandas as pd\n",
    "import numpy as np"
   ]
  },
  {
   "cell_type": "code",
   "execution_count": 48,
   "id": "c9e28a55-04d7-4f4c-b0a9-4741e227fe57",
   "metadata": {},
   "outputs": [
    {
     "name": "stdout",
     "output_type": "stream",
     "text": [
      "        Date  Profit/Losses\n",
      "0   Jan-2010         867884\n",
      "1   Feb-2010         984655\n",
      "2   Mar-2010         322013\n",
      "3   Apr-2010         -69417\n",
      "4   May-2010         310503\n",
      "..       ...            ...\n",
      "81  Oct-2016         102685\n",
      "82  Nov-2016         795914\n",
      "83  Dec-2016          60988\n",
      "84  Jan-2017         138230\n",
      "85  Feb-2017         671099\n",
      "\n",
      "[86 rows x 2 columns]\n"
     ]
    }
   ],
   "source": [
    "df = pd.read_csv(r\"C:\\Users\\Ashley\\python-homework\\PyBank\\budget_data.csv\")\n",
    "print(df)\n"
   ]
  },
  {
   "cell_type": "code",
   "execution_count": 102,
   "id": "77372dce-1950-402b-9089-7a1a5e0f8a96",
   "metadata": {},
   "outputs": [],
   "source": [
    "count1 = df['Profit/Losses'].count()\n",
    "mean1 = df['Profit/Losses'].mean()\n",
    "sum1 = df['Profit/Losses'].sum()\n",
    "max1 = df['Profit/Losses'].max()\n",
    "min1 = df['Profit/Losses'].min()"
   ]
  },
  {
   "cell_type": "code",
   "execution_count": null,
   "id": "c05e5ad7-7498-43cc-be2c-344433101872",
   "metadata": {},
   "outputs": [],
   "source": []
  },
  {
   "cell_type": "code",
   "execution_count": 129,
   "id": "292f3b2a-8157-4b4a-8e3c-c2d9053b5dc6",
   "metadata": {},
   "outputs": [
    {
     "name": "stdout",
     "output_type": "stream",
     "text": [
      "25    Feb-2012\n",
      "Name: Date, dtype: object\n",
      "44    Sep-2013\n",
      "Name: Date, dtype: object\n"
     ]
    }
   ],
   "source": [
    "max1_date = df.sort_values('Profit/Losses').tail(1).Date\n",
    "print(max1_date)\n",
    "min1_date = df.sort_values('Profit/Losses').head(1).Date\n",
    "print(min1_date)"
   ]
  },
  {
   "cell_type": "code",
   "execution_count": 136,
   "id": "7b3854da-8d7e-47a5-adf3-80556d9f4068",
   "metadata": {},
   "outputs": [
    {
     "name": "stdout",
     "output_type": "stream",
     "text": [
      "Financial Analysis\n",
      "----------------------\n",
      "Total Months: 86\n",
      "Total: $38382578\n",
      "Average Change: $446309.0465116279\n",
      "Greatest Increase in Profits: 44    Sep-2013\n",
      "Name: Date, dtype: object1170593\n",
      "Greatest Decrease in Profits: $-1196225\n"
     ]
    }
   ],
   "source": [
    "result =\n",
    "print('Financial Analysis')\n",
    "print('----------------------')\n",
    "print('Total Months: ' + str(count1))\n",
    "print('Total: $' + str(sum1))\n",
    "print('Average Change: $' + str(mean1))\n",
    "print('Greatest Increase in Profits: ' + str(min1_date) + str(max1))\n",
    "print('Greatest Decrease in Profits: $' + str(min1))"
   ]
  },
  {
   "cell_type": "code",
   "execution_count": 128,
   "id": "f08ad853-2395-475d-9bb8-670671a5c0c2",
   "metadata": {},
   "outputs": [
    {
     "name": "stdout",
     "output_type": "stream",
     "text": [
      "        Date  Profit/Losses\n",
      "25  Feb-2012        1170593\n"
     ]
    }
   ],
   "source": [
    "print(df[df['Profit/Losses']==df['Profit/Losses'].max()])"
   ]
  },
  {
   "cell_type": "code",
   "execution_count": 137,
   "id": "dcc13a64-9b35-4001-bd78-a9552ab14934",
   "metadata": {},
   "outputs": [],
   "source": [
    "with open('result.txt', 'a') as fp:\n",
    "    fp.write(result)"
   ]
  },
  {
   "cell_type": "code",
   "execution_count": 135,
   "id": "d1e92f4d-ded6-45c8-95e2-b47d2a49760b",
   "metadata": {},
   "outputs": [
    {
     "name": "stdout",
     "output_type": "stream",
     "text": [
      "1170593\n"
     ]
    }
   ],
   "source": [
    "print(max1)"
   ]
  },
  {
   "cell_type": "code",
   "execution_count": null,
   "id": "19a861ad-557a-4646-b6a4-197b06ddee9d",
   "metadata": {},
   "outputs": [],
   "source": []
  }
 ],
 "metadata": {
  "kernelspec": {
   "display_name": "Python 3",
   "language": "python",
   "name": "python3"
  },
  "language_info": {
   "codemirror_mode": {
    "name": "ipython",
    "version": 3
   },
   "file_extension": ".py",
   "mimetype": "text/x-python",
   "name": "python",
   "nbconvert_exporter": "python",
   "pygments_lexer": "ipython3",
   "version": "3.8.8"
  }
 },
 "nbformat": 4,
 "nbformat_minor": 5
}
